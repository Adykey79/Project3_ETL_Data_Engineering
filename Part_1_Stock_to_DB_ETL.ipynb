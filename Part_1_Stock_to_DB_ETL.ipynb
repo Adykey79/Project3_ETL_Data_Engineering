{
 "cells": [
  {
   "cell_type": "code",
   "execution_count": 1,
   "id": "6316ec94-0047-4e0a-a984-524c01773b58",
   "metadata": {
    "pycharm": {
     "name": "#%%\n"
    }
   },
   "outputs": [],
   "source": [
    "# Dependencies and Setup\n",
    "import matplotlib.pyplot as plt\n",
    "import pandas as pd\n",
    "from pprint import pprint\n",
    "import scipy.stats as st\n",
    "import datetime as dt\n",
    "from pandas_datareader import data \n",
    "import yfinance\n",
    "import sqlite3\n",
    "# Supress Warnings\n",
    "import warnings\n",
    "warnings.simplefilter(action = \"ignore\")"
   ]
  },
  {
   "cell_type": "code",
   "execution_count": 2,
   "id": "df6fcdb6-740b-4391-8e6c-2bed17034eb6",
   "metadata": {
    "pycharm": {
     "name": "#%%\n"
    }
   },
   "outputs": [],
   "source": [
    "# Obtain the closing prices of stock for the analysis\n",
    "yfinance.pdr_override() "
   ]
  },
  {
   "cell_type": "markdown",
   "id": "c2d61d00-93db-44c5-853c-31df25ac316b",
   "metadata": {
    "pycharm": {
     "name": "#%% md\n"
    }
   },
   "source": [
    "# Extraction of Data"
   ]
  },
  {
   "cell_type": "code",
   "execution_count": 3,
   "id": "e15c1c23-4ba8-48a7-8963-f00ba62e8293",
   "metadata": {
    "pycharm": {
     "name": "#%%\n"
    }
   },
   "outputs": [
    {
     "name": "stderr",
     "output_type": "stream",
     "text": [
      "[*********************100%%**********************]  1 of 1 completed\n"
     ]
    },
    {
     "data": {
      "text/html": [
       "<div>\n",
       "<style scoped>\n",
       "    .dataframe tbody tr th:only-of-type {\n",
       "        vertical-align: middle;\n",
       "    }\n",
       "\n",
       "    .dataframe tbody tr th {\n",
       "        vertical-align: top;\n",
       "    }\n",
       "\n",
       "    .dataframe thead th {\n",
       "        text-align: right;\n",
       "    }\n",
       "</style>\n",
       "<table border=\"1\" class=\"dataframe\">\n",
       "  <thead>\n",
       "    <tr style=\"text-align: right;\">\n",
       "      <th></th>\n",
       "      <th>Open</th>\n",
       "      <th>High</th>\n",
       "      <th>Low</th>\n",
       "      <th>Close</th>\n",
       "      <th>Adj Close</th>\n",
       "      <th>Volume</th>\n",
       "    </tr>\n",
       "    <tr>\n",
       "      <th>Date</th>\n",
       "      <th></th>\n",
       "      <th></th>\n",
       "      <th></th>\n",
       "      <th></th>\n",
       "      <th></th>\n",
       "      <th></th>\n",
       "    </tr>\n",
       "  </thead>\n",
       "  <tbody>\n",
       "    <tr>\n",
       "      <th>2023-01-03</th>\n",
       "      <td>130.279999</td>\n",
       "      <td>130.899994</td>\n",
       "      <td>124.169998</td>\n",
       "      <td>125.070000</td>\n",
       "      <td>124.216301</td>\n",
       "      <td>112117500</td>\n",
       "    </tr>\n",
       "    <tr>\n",
       "      <th>2023-01-04</th>\n",
       "      <td>126.889999</td>\n",
       "      <td>128.660004</td>\n",
       "      <td>125.080002</td>\n",
       "      <td>126.360001</td>\n",
       "      <td>125.497498</td>\n",
       "      <td>89113600</td>\n",
       "    </tr>\n",
       "    <tr>\n",
       "      <th>2023-01-05</th>\n",
       "      <td>127.129997</td>\n",
       "      <td>127.769997</td>\n",
       "      <td>124.760002</td>\n",
       "      <td>125.019997</td>\n",
       "      <td>124.166641</td>\n",
       "      <td>80962700</td>\n",
       "    </tr>\n",
       "    <tr>\n",
       "      <th>2023-01-06</th>\n",
       "      <td>126.010002</td>\n",
       "      <td>130.289993</td>\n",
       "      <td>124.889999</td>\n",
       "      <td>129.619995</td>\n",
       "      <td>128.735229</td>\n",
       "      <td>87754700</td>\n",
       "    </tr>\n",
       "    <tr>\n",
       "      <th>2023-01-09</th>\n",
       "      <td>130.470001</td>\n",
       "      <td>133.410004</td>\n",
       "      <td>129.889999</td>\n",
       "      <td>130.149994</td>\n",
       "      <td>129.261612</td>\n",
       "      <td>70790800</td>\n",
       "    </tr>\n",
       "  </tbody>\n",
       "</table>\n",
       "</div>"
      ],
      "text/plain": [
       "                  Open        High         Low       Close   Adj Close  \\\n",
       "Date                                                                     \n",
       "2023-01-03  130.279999  130.899994  124.169998  125.070000  124.216301   \n",
       "2023-01-04  126.889999  128.660004  125.080002  126.360001  125.497498   \n",
       "2023-01-05  127.129997  127.769997  124.760002  125.019997  124.166641   \n",
       "2023-01-06  126.010002  130.289993  124.889999  129.619995  128.735229   \n",
       "2023-01-09  130.470001  133.410004  129.889999  130.149994  129.261612   \n",
       "\n",
       "               Volume  \n",
       "Date                   \n",
       "2023-01-03  112117500  \n",
       "2023-01-04   89113600  \n",
       "2023-01-05   80962700  \n",
       "2023-01-06   87754700  \n",
       "2023-01-09   70790800  "
      ]
     },
     "execution_count": 3,
     "metadata": {},
     "output_type": "execute_result"
    }
   ],
   "source": [
    "# Fetching the data from Yahoo Finance for Apple (AAPL)\n",
    "# Creating the Price table for Apple for 2023 \n",
    "apple_df = data.get_data_yahoo(\"AAPL\", start = \"2023-01-01\", end = \"2023-12-31\")\n",
    "apple_df.head()"
   ]
  },
  {
   "cell_type": "markdown",
   "id": "4e15211b-400b-4b35-a18d-00f8ba3ecd0d",
   "metadata": {
    "pycharm": {
     "name": "#%% md\n"
    }
   },
   "source": [
    "# Transforming Data"
   ]
  },
  {
   "cell_type": "code",
   "execution_count": 4,
   "id": "4d423fa1-7cd5-4109-a78b-bd9168732e38",
   "metadata": {
    "pycharm": {
     "name": "#%%\n"
    }
   },
   "outputs": [
    {
     "data": {
      "text/html": [
       "<div>\n",
       "<style scoped>\n",
       "    .dataframe tbody tr th:only-of-type {\n",
       "        vertical-align: middle;\n",
       "    }\n",
       "\n",
       "    .dataframe tbody tr th {\n",
       "        vertical-align: top;\n",
       "    }\n",
       "\n",
       "    .dataframe thead th {\n",
       "        text-align: right;\n",
       "    }\n",
       "</style>\n",
       "<table border=\"1\" class=\"dataframe\">\n",
       "  <thead>\n",
       "    <tr style=\"text-align: right;\">\n",
       "      <th></th>\n",
       "      <th>Date</th>\n",
       "      <th>stock_id</th>\n",
       "      <th>Adj Close</th>\n",
       "      <th>Volume</th>\n",
       "    </tr>\n",
       "  </thead>\n",
       "  <tbody>\n",
       "    <tr>\n",
       "      <th>0</th>\n",
       "      <td>2023-01-03</td>\n",
       "      <td>AAPL</td>\n",
       "      <td>124.216301</td>\n",
       "      <td>112117500</td>\n",
       "    </tr>\n",
       "    <tr>\n",
       "      <th>1</th>\n",
       "      <td>2023-01-04</td>\n",
       "      <td>AAPL</td>\n",
       "      <td>125.497498</td>\n",
       "      <td>89113600</td>\n",
       "    </tr>\n",
       "    <tr>\n",
       "      <th>2</th>\n",
       "      <td>2023-01-05</td>\n",
       "      <td>AAPL</td>\n",
       "      <td>124.166641</td>\n",
       "      <td>80962700</td>\n",
       "    </tr>\n",
       "    <tr>\n",
       "      <th>3</th>\n",
       "      <td>2023-01-06</td>\n",
       "      <td>AAPL</td>\n",
       "      <td>128.735229</td>\n",
       "      <td>87754700</td>\n",
       "    </tr>\n",
       "    <tr>\n",
       "      <th>4</th>\n",
       "      <td>2023-01-09</td>\n",
       "      <td>AAPL</td>\n",
       "      <td>129.261612</td>\n",
       "      <td>70790800</td>\n",
       "    </tr>\n",
       "  </tbody>\n",
       "</table>\n",
       "</div>"
      ],
      "text/plain": [
       "        Date stock_id   Adj Close     Volume\n",
       "0 2023-01-03     AAPL  124.216301  112117500\n",
       "1 2023-01-04     AAPL  125.497498   89113600\n",
       "2 2023-01-05     AAPL  124.166641   80962700\n",
       "3 2023-01-06     AAPL  128.735229   87754700\n",
       "4 2023-01-09     AAPL  129.261612   70790800"
      ]
     },
     "execution_count": 4,
     "metadata": {},
     "output_type": "execute_result"
    }
   ],
   "source": [
    "# Creating the Volume table for Apple based on the dataframe above\n",
    "apple_volume = apple_df[[\"Adj Close\", \"Volume\"]]\n",
    "apple_volume[\"stock_id\"] = \"AAPL\"\n",
    "\n",
    "# Reset the index and update add relevant columns\n",
    "apple_volume.reset_index(inplace = True)\n",
    "apple_volume = apple_volume[[\"Date\", \"stock_id\", \"Adj Close\", \"Volume\"]]\n",
    "apple_volume.head()"
   ]
  },
  {
   "cell_type": "code",
   "execution_count": 5,
   "id": "7547c3d1-ac1f-4dda-ac00-86d11c4e8bec",
   "metadata": {
    "pycharm": {
     "name": "#%%\n"
    }
   },
   "outputs": [
    {
     "data": {
      "text/html": [
       "<div>\n",
       "<style scoped>\n",
       "    .dataframe tbody tr th:only-of-type {\n",
       "        vertical-align: middle;\n",
       "    }\n",
       "\n",
       "    .dataframe tbody tr th {\n",
       "        vertical-align: top;\n",
       "    }\n",
       "\n",
       "    .dataframe thead th {\n",
       "        text-align: right;\n",
       "    }\n",
       "</style>\n",
       "<table border=\"1\" class=\"dataframe\">\n",
       "  <thead>\n",
       "    <tr style=\"text-align: right;\">\n",
       "      <th></th>\n",
       "      <th>Open</th>\n",
       "      <th>High</th>\n",
       "      <th>Low</th>\n",
       "      <th>Close</th>\n",
       "    </tr>\n",
       "    <tr>\n",
       "      <th>Date</th>\n",
       "      <th></th>\n",
       "      <th></th>\n",
       "      <th></th>\n",
       "      <th></th>\n",
       "    </tr>\n",
       "  </thead>\n",
       "  <tbody>\n",
       "    <tr>\n",
       "      <th>2023-01-03</th>\n",
       "      <td>130.279999</td>\n",
       "      <td>130.899994</td>\n",
       "      <td>124.169998</td>\n",
       "      <td>125.070000</td>\n",
       "    </tr>\n",
       "    <tr>\n",
       "      <th>2023-01-04</th>\n",
       "      <td>126.889999</td>\n",
       "      <td>128.660004</td>\n",
       "      <td>125.080002</td>\n",
       "      <td>126.360001</td>\n",
       "    </tr>\n",
       "    <tr>\n",
       "      <th>2023-01-05</th>\n",
       "      <td>127.129997</td>\n",
       "      <td>127.769997</td>\n",
       "      <td>124.760002</td>\n",
       "      <td>125.019997</td>\n",
       "    </tr>\n",
       "    <tr>\n",
       "      <th>2023-01-06</th>\n",
       "      <td>126.010002</td>\n",
       "      <td>130.289993</td>\n",
       "      <td>124.889999</td>\n",
       "      <td>129.619995</td>\n",
       "    </tr>\n",
       "    <tr>\n",
       "      <th>2023-01-09</th>\n",
       "      <td>130.470001</td>\n",
       "      <td>133.410004</td>\n",
       "      <td>129.889999</td>\n",
       "      <td>130.149994</td>\n",
       "    </tr>\n",
       "  </tbody>\n",
       "</table>\n",
       "</div>"
      ],
      "text/plain": [
       "                  Open        High         Low       Close\n",
       "Date                                                      \n",
       "2023-01-03  130.279999  130.899994  124.169998  125.070000\n",
       "2023-01-04  126.889999  128.660004  125.080002  126.360001\n",
       "2023-01-05  127.129997  127.769997  124.760002  125.019997\n",
       "2023-01-06  126.010002  130.289993  124.889999  129.619995\n",
       "2023-01-09  130.470001  133.410004  129.889999  130.149994"
      ]
     },
     "execution_count": 5,
     "metadata": {},
     "output_type": "execute_result"
    }
   ],
   "source": [
    "# Dropping Adj Close and Volume columns from the price table\n",
    "apple_df.drop(columns = [\"Adj Close\", \"Volume\"], inplace = True)\n",
    "apple_df.head()"
   ]
  },
  {
   "cell_type": "code",
   "execution_count": 6,
   "id": "173216f6-e7f5-4ad4-9ca5-c3ffd27b8960",
   "metadata": {
    "pycharm": {
     "name": "#%%\n"
    }
   },
   "outputs": [
    {
     "data": {
      "text/html": [
       "<div>\n",
       "<style scoped>\n",
       "    .dataframe tbody tr th:only-of-type {\n",
       "        vertical-align: middle;\n",
       "    }\n",
       "\n",
       "    .dataframe tbody tr th {\n",
       "        vertical-align: top;\n",
       "    }\n",
       "\n",
       "    .dataframe thead th {\n",
       "        text-align: right;\n",
       "    }\n",
       "</style>\n",
       "<table border=\"1\" class=\"dataframe\">\n",
       "  <thead>\n",
       "    <tr style=\"text-align: right;\">\n",
       "      <th></th>\n",
       "      <th>Date</th>\n",
       "      <th>Open</th>\n",
       "      <th>High</th>\n",
       "      <th>Low</th>\n",
       "      <th>Close</th>\n",
       "      <th>Percentage_Change</th>\n",
       "    </tr>\n",
       "  </thead>\n",
       "  <tbody>\n",
       "    <tr>\n",
       "      <th>0</th>\n",
       "      <td>2023-01-03</td>\n",
       "      <td>130.28</td>\n",
       "      <td>130.90</td>\n",
       "      <td>124.17</td>\n",
       "      <td>125.07</td>\n",
       "      <td>NaN</td>\n",
       "    </tr>\n",
       "    <tr>\n",
       "      <th>1</th>\n",
       "      <td>2023-01-04</td>\n",
       "      <td>126.89</td>\n",
       "      <td>128.66</td>\n",
       "      <td>125.08</td>\n",
       "      <td>126.36</td>\n",
       "      <td>0.010314</td>\n",
       "    </tr>\n",
       "    <tr>\n",
       "      <th>2</th>\n",
       "      <td>2023-01-05</td>\n",
       "      <td>127.13</td>\n",
       "      <td>127.77</td>\n",
       "      <td>124.76</td>\n",
       "      <td>125.02</td>\n",
       "      <td>-0.010605</td>\n",
       "    </tr>\n",
       "    <tr>\n",
       "      <th>3</th>\n",
       "      <td>2023-01-06</td>\n",
       "      <td>126.01</td>\n",
       "      <td>130.29</td>\n",
       "      <td>124.89</td>\n",
       "      <td>129.62</td>\n",
       "      <td>0.036794</td>\n",
       "    </tr>\n",
       "    <tr>\n",
       "      <th>4</th>\n",
       "      <td>2023-01-09</td>\n",
       "      <td>130.47</td>\n",
       "      <td>133.41</td>\n",
       "      <td>129.89</td>\n",
       "      <td>130.15</td>\n",
       "      <td>0.004089</td>\n",
       "    </tr>\n",
       "  </tbody>\n",
       "</table>\n",
       "</div>"
      ],
      "text/plain": [
       "        Date    Open    High     Low   Close  Percentage_Change\n",
       "0 2023-01-03  130.28  130.90  124.17  125.07                NaN\n",
       "1 2023-01-04  126.89  128.66  125.08  126.36           0.010314\n",
       "2 2023-01-05  127.13  127.77  124.76  125.02          -0.010605\n",
       "3 2023-01-06  126.01  130.29  124.89  129.62           0.036794\n",
       "4 2023-01-09  130.47  133.41  129.89  130.15           0.004089"
      ]
     },
     "execution_count": 6,
     "metadata": {},
     "output_type": "execute_result"
    }
   ],
   "source": [
    "# Use Lambda function to round all numbers to two decimal places\n",
    "apple_df = apple_df.apply(lambda x: round(x,2))\n",
    "\n",
    "# Compute Percentage Change in Stock Price for Apple\n",
    "apple_df[\"Percentage_Change\"] = apple_df[\"Close\"].pct_change()\n",
    "apple_df.reset_index(inplace = True)\n",
    "\n",
    "# Display the updated dataframe\n",
    "apple_df.head()"
   ]
  },
  {
   "cell_type": "code",
   "execution_count": 7,
   "id": "c25328e5-da70-45e3-b3d6-6e19b23c8478",
   "metadata": {
    "pycharm": {
     "name": "#%%\n"
    }
   },
   "outputs": [
    {
     "data": {
      "text/html": [
       "<div>\n",
       "<style scoped>\n",
       "    .dataframe tbody tr th:only-of-type {\n",
       "        vertical-align: middle;\n",
       "    }\n",
       "\n",
       "    .dataframe tbody tr th {\n",
       "        vertical-align: top;\n",
       "    }\n",
       "\n",
       "    .dataframe thead th {\n",
       "        text-align: right;\n",
       "    }\n",
       "</style>\n",
       "<table border=\"1\" class=\"dataframe\">\n",
       "  <thead>\n",
       "    <tr style=\"text-align: right;\">\n",
       "      <th></th>\n",
       "      <th>Date</th>\n",
       "      <th>Open</th>\n",
       "      <th>High</th>\n",
       "      <th>Low</th>\n",
       "      <th>Close</th>\n",
       "      <th>Percentage_Change</th>\n",
       "      <th>Month</th>\n",
       "    </tr>\n",
       "  </thead>\n",
       "  <tbody>\n",
       "    <tr>\n",
       "      <th>0</th>\n",
       "      <td>2023-01-03</td>\n",
       "      <td>130.28</td>\n",
       "      <td>130.90</td>\n",
       "      <td>124.17</td>\n",
       "      <td>125.07</td>\n",
       "      <td>NaN</td>\n",
       "      <td>1</td>\n",
       "    </tr>\n",
       "    <tr>\n",
       "      <th>1</th>\n",
       "      <td>2023-01-04</td>\n",
       "      <td>126.89</td>\n",
       "      <td>128.66</td>\n",
       "      <td>125.08</td>\n",
       "      <td>126.36</td>\n",
       "      <td>0.010314</td>\n",
       "      <td>1</td>\n",
       "    </tr>\n",
       "    <tr>\n",
       "      <th>2</th>\n",
       "      <td>2023-01-05</td>\n",
       "      <td>127.13</td>\n",
       "      <td>127.77</td>\n",
       "      <td>124.76</td>\n",
       "      <td>125.02</td>\n",
       "      <td>-0.010605</td>\n",
       "      <td>1</td>\n",
       "    </tr>\n",
       "    <tr>\n",
       "      <th>3</th>\n",
       "      <td>2023-01-06</td>\n",
       "      <td>126.01</td>\n",
       "      <td>130.29</td>\n",
       "      <td>124.89</td>\n",
       "      <td>129.62</td>\n",
       "      <td>0.036794</td>\n",
       "      <td>1</td>\n",
       "    </tr>\n",
       "    <tr>\n",
       "      <th>4</th>\n",
       "      <td>2023-01-09</td>\n",
       "      <td>130.47</td>\n",
       "      <td>133.41</td>\n",
       "      <td>129.89</td>\n",
       "      <td>130.15</td>\n",
       "      <td>0.004089</td>\n",
       "      <td>1</td>\n",
       "    </tr>\n",
       "  </tbody>\n",
       "</table>\n",
       "</div>"
      ],
      "text/plain": [
       "        Date    Open    High     Low   Close  Percentage_Change  Month\n",
       "0 2023-01-03  130.28  130.90  124.17  125.07                NaN      1\n",
       "1 2023-01-04  126.89  128.66  125.08  126.36           0.010314      1\n",
       "2 2023-01-05  127.13  127.77  124.76  125.02          -0.010605      1\n",
       "3 2023-01-06  126.01  130.29  124.89  129.62           0.036794      1\n",
       "4 2023-01-09  130.47  133.41  129.89  130.15           0.004089      1"
      ]
     },
     "execution_count": 7,
     "metadata": {},
     "output_type": "execute_result"
    }
   ],
   "source": [
    "# Add a monthly enumerator based on the date column within the above dataframe\n",
    "apple_df[\"Month\"] = apple_df[\"Date\"].dt.month\n",
    "\n",
    "# Display the updated dataframe\n",
    "apple_df.head()"
   ]
  },
  {
   "cell_type": "code",
   "execution_count": 8,
   "id": "b432a96c-4c4c-4e6b-8732-a18b204caa85",
   "metadata": {
    "pycharm": {
     "name": "#%%\n"
    }
   },
   "outputs": [
    {
     "data": {
      "text/html": [
       "<div>\n",
       "<style scoped>\n",
       "    .dataframe tbody tr th:only-of-type {\n",
       "        vertical-align: middle;\n",
       "    }\n",
       "\n",
       "    .dataframe tbody tr th {\n",
       "        vertical-align: top;\n",
       "    }\n",
       "\n",
       "    .dataframe thead th {\n",
       "        text-align: right;\n",
       "    }\n",
       "</style>\n",
       "<table border=\"1\" class=\"dataframe\">\n",
       "  <thead>\n",
       "    <tr style=\"text-align: right;\">\n",
       "      <th></th>\n",
       "      <th>Date</th>\n",
       "      <th>Open</th>\n",
       "      <th>High</th>\n",
       "      <th>Low</th>\n",
       "      <th>Close</th>\n",
       "      <th>Percentage_Change</th>\n",
       "      <th>Month</th>\n",
       "      <th>Normalization</th>\n",
       "      <th>stock_id</th>\n",
       "    </tr>\n",
       "  </thead>\n",
       "  <tbody>\n",
       "    <tr>\n",
       "      <th>0</th>\n",
       "      <td>2023-01-03</td>\n",
       "      <td>130.28</td>\n",
       "      <td>130.90</td>\n",
       "      <td>124.17</td>\n",
       "      <td>125.07</td>\n",
       "      <td>NaN</td>\n",
       "      <td>1</td>\n",
       "      <td>1.000000</td>\n",
       "      <td>AAPL</td>\n",
       "    </tr>\n",
       "    <tr>\n",
       "      <th>1</th>\n",
       "      <td>2023-01-04</td>\n",
       "      <td>126.89</td>\n",
       "      <td>128.66</td>\n",
       "      <td>125.08</td>\n",
       "      <td>126.36</td>\n",
       "      <td>0.010314</td>\n",
       "      <td>1</td>\n",
       "      <td>1.010314</td>\n",
       "      <td>AAPL</td>\n",
       "    </tr>\n",
       "    <tr>\n",
       "      <th>2</th>\n",
       "      <td>2023-01-05</td>\n",
       "      <td>127.13</td>\n",
       "      <td>127.77</td>\n",
       "      <td>124.76</td>\n",
       "      <td>125.02</td>\n",
       "      <td>-0.010605</td>\n",
       "      <td>1</td>\n",
       "      <td>0.999600</td>\n",
       "      <td>AAPL</td>\n",
       "    </tr>\n",
       "    <tr>\n",
       "      <th>3</th>\n",
       "      <td>2023-01-06</td>\n",
       "      <td>126.01</td>\n",
       "      <td>130.29</td>\n",
       "      <td>124.89</td>\n",
       "      <td>129.62</td>\n",
       "      <td>0.036794</td>\n",
       "      <td>1</td>\n",
       "      <td>1.036380</td>\n",
       "      <td>AAPL</td>\n",
       "    </tr>\n",
       "    <tr>\n",
       "      <th>4</th>\n",
       "      <td>2023-01-09</td>\n",
       "      <td>130.47</td>\n",
       "      <td>133.41</td>\n",
       "      <td>129.89</td>\n",
       "      <td>130.15</td>\n",
       "      <td>0.004089</td>\n",
       "      <td>1</td>\n",
       "      <td>1.040617</td>\n",
       "      <td>AAPL</td>\n",
       "    </tr>\n",
       "  </tbody>\n",
       "</table>\n",
       "</div>"
      ],
      "text/plain": [
       "        Date    Open    High     Low   Close  Percentage_Change  Month  \\\n",
       "0 2023-01-03  130.28  130.90  124.17  125.07                NaN      1   \n",
       "1 2023-01-04  126.89  128.66  125.08  126.36           0.010314      1   \n",
       "2 2023-01-05  127.13  127.77  124.76  125.02          -0.010605      1   \n",
       "3 2023-01-06  126.01  130.29  124.89  129.62           0.036794      1   \n",
       "4 2023-01-09  130.47  133.41  129.89  130.15           0.004089      1   \n",
       "\n",
       "   Normalization stock_id  \n",
       "0       1.000000     AAPL  \n",
       "1       1.010314     AAPL  \n",
       "2       0.999600     AAPL  \n",
       "3       1.036380     AAPL  \n",
       "4       1.040617     AAPL  "
      ]
     },
     "execution_count": 8,
     "metadata": {},
     "output_type": "execute_result"
    }
   ],
   "source": [
    "# Normalize the stock price based on the closing price of the first calendar day of trading\n",
    "apple_df[\"Normalization\"] = apple_df[\"Close\"]/125.07\n",
    "apple_df[\"stock_id\"] = \"AAPL\"\n",
    "\n",
    "# Display the updated dataframe with the normalized factor for the price\n",
    "apple_df.head()"
   ]
  },
  {
   "cell_type": "code",
   "execution_count": 9,
   "id": "53b9c64c-425c-4456-ae40-cfbd33b86f6b",
   "metadata": {
    "pycharm": {
     "name": "#%%\n"
    }
   },
   "outputs": [
    {
     "data": {
      "text/html": [
       "<div>\n",
       "<style scoped>\n",
       "    .dataframe tbody tr th:only-of-type {\n",
       "        vertical-align: middle;\n",
       "    }\n",
       "\n",
       "    .dataframe tbody tr th {\n",
       "        vertical-align: top;\n",
       "    }\n",
       "\n",
       "    .dataframe thead th {\n",
       "        text-align: right;\n",
       "    }\n",
       "</style>\n",
       "<table border=\"1\" class=\"dataframe\">\n",
       "  <thead>\n",
       "    <tr style=\"text-align: right;\">\n",
       "      <th></th>\n",
       "      <th>Date</th>\n",
       "      <th>Open</th>\n",
       "      <th>High</th>\n",
       "      <th>Low</th>\n",
       "      <th>Close</th>\n",
       "      <th>Percentage_Change</th>\n",
       "      <th>Month</th>\n",
       "      <th>Normalization</th>\n",
       "      <th>stock_id</th>\n",
       "      <th>Accumulation</th>\n",
       "    </tr>\n",
       "  </thead>\n",
       "  <tbody>\n",
       "    <tr>\n",
       "      <th>0</th>\n",
       "      <td>2023-01-03</td>\n",
       "      <td>130.28</td>\n",
       "      <td>130.90</td>\n",
       "      <td>124.17</td>\n",
       "      <td>125.07</td>\n",
       "      <td>NaN</td>\n",
       "      <td>1</td>\n",
       "      <td>1.000000</td>\n",
       "      <td>AAPL</td>\n",
       "      <td>NaN</td>\n",
       "    </tr>\n",
       "    <tr>\n",
       "      <th>1</th>\n",
       "      <td>2023-01-04</td>\n",
       "      <td>126.89</td>\n",
       "      <td>128.66</td>\n",
       "      <td>125.08</td>\n",
       "      <td>126.36</td>\n",
       "      <td>0.010314</td>\n",
       "      <td>1</td>\n",
       "      <td>1.010314</td>\n",
       "      <td>AAPL</td>\n",
       "      <td>1.010314</td>\n",
       "    </tr>\n",
       "    <tr>\n",
       "      <th>2</th>\n",
       "      <td>2023-01-05</td>\n",
       "      <td>127.13</td>\n",
       "      <td>127.77</td>\n",
       "      <td>124.76</td>\n",
       "      <td>125.02</td>\n",
       "      <td>-0.010605</td>\n",
       "      <td>1</td>\n",
       "      <td>0.999600</td>\n",
       "      <td>AAPL</td>\n",
       "      <td>0.999600</td>\n",
       "    </tr>\n",
       "    <tr>\n",
       "      <th>3</th>\n",
       "      <td>2023-01-06</td>\n",
       "      <td>126.01</td>\n",
       "      <td>130.29</td>\n",
       "      <td>124.89</td>\n",
       "      <td>129.62</td>\n",
       "      <td>0.036794</td>\n",
       "      <td>1</td>\n",
       "      <td>1.036380</td>\n",
       "      <td>AAPL</td>\n",
       "      <td>1.036380</td>\n",
       "    </tr>\n",
       "    <tr>\n",
       "      <th>4</th>\n",
       "      <td>2023-01-09</td>\n",
       "      <td>130.47</td>\n",
       "      <td>133.41</td>\n",
       "      <td>129.89</td>\n",
       "      <td>130.15</td>\n",
       "      <td>0.004089</td>\n",
       "      <td>1</td>\n",
       "      <td>1.040617</td>\n",
       "      <td>AAPL</td>\n",
       "      <td>1.040617</td>\n",
       "    </tr>\n",
       "  </tbody>\n",
       "</table>\n",
       "</div>"
      ],
      "text/plain": [
       "        Date    Open    High     Low   Close  Percentage_Change  Month  \\\n",
       "0 2023-01-03  130.28  130.90  124.17  125.07                NaN      1   \n",
       "1 2023-01-04  126.89  128.66  125.08  126.36           0.010314      1   \n",
       "2 2023-01-05  127.13  127.77  124.76  125.02          -0.010605      1   \n",
       "3 2023-01-06  126.01  130.29  124.89  129.62           0.036794      1   \n",
       "4 2023-01-09  130.47  133.41  129.89  130.15           0.004089      1   \n",
       "\n",
       "   Normalization stock_id  Accumulation  \n",
       "0       1.000000     AAPL           NaN  \n",
       "1       1.010314     AAPL      1.010314  \n",
       "2       0.999600     AAPL      0.999600  \n",
       "3       1.036380     AAPL      1.036380  \n",
       "4       1.040617     AAPL      1.040617  "
      ]
     },
     "execution_count": 9,
     "metadata": {},
     "output_type": "execute_result"
    }
   ],
   "source": [
    "# Calculate the cumulative product of the normalized price change and store in a new column\n",
    "apple_df[\"Accumulation\"] = (apple_df[\"Percentage_Change\"]+1).cumprod()\n",
    "\n",
    "# Display the updated dataframe\n",
    "apple_df.head()"
   ]
  },
  {
   "cell_type": "code",
   "execution_count": 10,
   "id": "b6726815-3f82-460c-a2d1-b298ef8bb588",
   "metadata": {
    "pycharm": {
     "name": "#%%\n"
    }
   },
   "outputs": [
    {
     "data": {
      "text/html": [
       "<div>\n",
       "<style scoped>\n",
       "    .dataframe tbody tr th:only-of-type {\n",
       "        vertical-align: middle;\n",
       "    }\n",
       "\n",
       "    .dataframe tbody tr th {\n",
       "        vertical-align: top;\n",
       "    }\n",
       "\n",
       "    .dataframe thead th {\n",
       "        text-align: right;\n",
       "    }\n",
       "</style>\n",
       "<table border=\"1\" class=\"dataframe\">\n",
       "  <thead>\n",
       "    <tr style=\"text-align: right;\">\n",
       "      <th></th>\n",
       "      <th>Date</th>\n",
       "      <th>Open</th>\n",
       "      <th>High</th>\n",
       "      <th>Low</th>\n",
       "      <th>Close</th>\n",
       "      <th>Percentage_Change</th>\n",
       "      <th>Month</th>\n",
       "      <th>Normalization</th>\n",
       "      <th>stock_id</th>\n",
       "      <th>Accumulation</th>\n",
       "    </tr>\n",
       "  </thead>\n",
       "  <tbody>\n",
       "    <tr>\n",
       "      <th>0</th>\n",
       "      <td>2023-01-03</td>\n",
       "      <td>130.28</td>\n",
       "      <td>130.90</td>\n",
       "      <td>124.17</td>\n",
       "      <td>125.07</td>\n",
       "      <td>NaN</td>\n",
       "      <td>1</td>\n",
       "      <td>1.0000</td>\n",
       "      <td>AAPL</td>\n",
       "      <td>NaN</td>\n",
       "    </tr>\n",
       "    <tr>\n",
       "      <th>1</th>\n",
       "      <td>2023-01-04</td>\n",
       "      <td>126.89</td>\n",
       "      <td>128.66</td>\n",
       "      <td>125.08</td>\n",
       "      <td>126.36</td>\n",
       "      <td>0.0103</td>\n",
       "      <td>1</td>\n",
       "      <td>1.0103</td>\n",
       "      <td>AAPL</td>\n",
       "      <td>1.0103</td>\n",
       "    </tr>\n",
       "    <tr>\n",
       "      <th>2</th>\n",
       "      <td>2023-01-05</td>\n",
       "      <td>127.13</td>\n",
       "      <td>127.77</td>\n",
       "      <td>124.76</td>\n",
       "      <td>125.02</td>\n",
       "      <td>-0.0106</td>\n",
       "      <td>1</td>\n",
       "      <td>0.9996</td>\n",
       "      <td>AAPL</td>\n",
       "      <td>0.9996</td>\n",
       "    </tr>\n",
       "    <tr>\n",
       "      <th>3</th>\n",
       "      <td>2023-01-06</td>\n",
       "      <td>126.01</td>\n",
       "      <td>130.29</td>\n",
       "      <td>124.89</td>\n",
       "      <td>129.62</td>\n",
       "      <td>0.0368</td>\n",
       "      <td>1</td>\n",
       "      <td>1.0364</td>\n",
       "      <td>AAPL</td>\n",
       "      <td>1.0364</td>\n",
       "    </tr>\n",
       "    <tr>\n",
       "      <th>4</th>\n",
       "      <td>2023-01-09</td>\n",
       "      <td>130.47</td>\n",
       "      <td>133.41</td>\n",
       "      <td>129.89</td>\n",
       "      <td>130.15</td>\n",
       "      <td>0.0041</td>\n",
       "      <td>1</td>\n",
       "      <td>1.0406</td>\n",
       "      <td>AAPL</td>\n",
       "      <td>1.0406</td>\n",
       "    </tr>\n",
       "  </tbody>\n",
       "</table>\n",
       "</div>"
      ],
      "text/plain": [
       "        Date    Open    High     Low   Close  Percentage_Change  Month  \\\n",
       "0 2023-01-03  130.28  130.90  124.17  125.07                NaN      1   \n",
       "1 2023-01-04  126.89  128.66  125.08  126.36             0.0103      1   \n",
       "2 2023-01-05  127.13  127.77  124.76  125.02            -0.0106      1   \n",
       "3 2023-01-06  126.01  130.29  124.89  129.62             0.0368      1   \n",
       "4 2023-01-09  130.47  133.41  129.89  130.15             0.0041      1   \n",
       "\n",
       "   Normalization stock_id  Accumulation  \n",
       "0         1.0000     AAPL           NaN  \n",
       "1         1.0103     AAPL        1.0103  \n",
       "2         0.9996     AAPL        0.9996  \n",
       "3         1.0364     AAPL        1.0364  \n",
       "4         1.0406     AAPL        1.0406  "
      ]
     },
     "execution_count": 10,
     "metadata": {},
     "output_type": "execute_result"
    }
   ],
   "source": [
    "# Apply lambda function to round the relevant dataframe values to four decimal places\n",
    "apple_df[[\n",
    "    \"Percentage_Change\", \n",
    "    \"Normalization\", \n",
    "    \"Accumulation\"\n",
    "]] = apple_df[[\n",
    "    \"Percentage_Change\", \n",
    "    \"Normalization\", \n",
    "    \"Accumulation\"\n",
    "]].apply(lambda x: round(x,4))\n",
    "\n",
    "# Display the updated dataframe\n",
    "apple_df.head()"
   ]
  },
  {
   "cell_type": "code",
   "execution_count": 11,
   "id": "307a3229-b6ce-478b-8058-a64aff5f849c",
   "metadata": {
    "pycharm": {
     "name": "#%%\n"
    }
   },
   "outputs": [
    {
     "data": {
      "text/html": [
       "<div>\n",
       "<style scoped>\n",
       "    .dataframe tbody tr th:only-of-type {\n",
       "        vertical-align: middle;\n",
       "    }\n",
       "\n",
       "    .dataframe tbody tr th {\n",
       "        vertical-align: top;\n",
       "    }\n",
       "\n",
       "    .dataframe thead th {\n",
       "        text-align: right;\n",
       "    }\n",
       "</style>\n",
       "<table border=\"1\" class=\"dataframe\">\n",
       "  <thead>\n",
       "    <tr style=\"text-align: right;\">\n",
       "      <th></th>\n",
       "      <th>Date</th>\n",
       "      <th>stock_id</th>\n",
       "      <th>Open</th>\n",
       "      <th>High</th>\n",
       "      <th>Low</th>\n",
       "      <th>Close</th>\n",
       "      <th>Month</th>\n",
       "      <th>Normalization</th>\n",
       "      <th>Percentage_Change</th>\n",
       "      <th>Accumulation</th>\n",
       "    </tr>\n",
       "  </thead>\n",
       "  <tbody>\n",
       "    <tr>\n",
       "      <th>0</th>\n",
       "      <td>2023-01-03</td>\n",
       "      <td>AAPL</td>\n",
       "      <td>130.28</td>\n",
       "      <td>130.90</td>\n",
       "      <td>124.17</td>\n",
       "      <td>125.07</td>\n",
       "      <td>1</td>\n",
       "      <td>1.0000</td>\n",
       "      <td>NaN</td>\n",
       "      <td>NaN</td>\n",
       "    </tr>\n",
       "    <tr>\n",
       "      <th>1</th>\n",
       "      <td>2023-01-04</td>\n",
       "      <td>AAPL</td>\n",
       "      <td>126.89</td>\n",
       "      <td>128.66</td>\n",
       "      <td>125.08</td>\n",
       "      <td>126.36</td>\n",
       "      <td>1</td>\n",
       "      <td>1.0103</td>\n",
       "      <td>0.0103</td>\n",
       "      <td>1.0103</td>\n",
       "    </tr>\n",
       "    <tr>\n",
       "      <th>2</th>\n",
       "      <td>2023-01-05</td>\n",
       "      <td>AAPL</td>\n",
       "      <td>127.13</td>\n",
       "      <td>127.77</td>\n",
       "      <td>124.76</td>\n",
       "      <td>125.02</td>\n",
       "      <td>1</td>\n",
       "      <td>0.9996</td>\n",
       "      <td>-0.0106</td>\n",
       "      <td>0.9996</td>\n",
       "    </tr>\n",
       "    <tr>\n",
       "      <th>3</th>\n",
       "      <td>2023-01-06</td>\n",
       "      <td>AAPL</td>\n",
       "      <td>126.01</td>\n",
       "      <td>130.29</td>\n",
       "      <td>124.89</td>\n",
       "      <td>129.62</td>\n",
       "      <td>1</td>\n",
       "      <td>1.0364</td>\n",
       "      <td>0.0368</td>\n",
       "      <td>1.0364</td>\n",
       "    </tr>\n",
       "    <tr>\n",
       "      <th>4</th>\n",
       "      <td>2023-01-09</td>\n",
       "      <td>AAPL</td>\n",
       "      <td>130.47</td>\n",
       "      <td>133.41</td>\n",
       "      <td>129.89</td>\n",
       "      <td>130.15</td>\n",
       "      <td>1</td>\n",
       "      <td>1.0406</td>\n",
       "      <td>0.0041</td>\n",
       "      <td>1.0406</td>\n",
       "    </tr>\n",
       "  </tbody>\n",
       "</table>\n",
       "</div>"
      ],
      "text/plain": [
       "        Date stock_id    Open    High     Low   Close  Month  Normalization  \\\n",
       "0 2023-01-03     AAPL  130.28  130.90  124.17  125.07      1         1.0000   \n",
       "1 2023-01-04     AAPL  126.89  128.66  125.08  126.36      1         1.0103   \n",
       "2 2023-01-05     AAPL  127.13  127.77  124.76  125.02      1         0.9996   \n",
       "3 2023-01-06     AAPL  126.01  130.29  124.89  129.62      1         1.0364   \n",
       "4 2023-01-09     AAPL  130.47  133.41  129.89  130.15      1         1.0406   \n",
       "\n",
       "   Percentage_Change  Accumulation  \n",
       "0                NaN           NaN  \n",
       "1             0.0103        1.0103  \n",
       "2            -0.0106        0.9996  \n",
       "3             0.0368        1.0364  \n",
       "4             0.0041        1.0406  "
      ]
     },
     "execution_count": 11,
     "metadata": {},
     "output_type": "execute_result"
    }
   ],
   "source": [
    "# Rearrange the dataframe in the desired order of columns for further analysis and clarity\n",
    "apple_df = apple_df[[\n",
    "    \"Date\",\n",
    "    \"stock_id\",\n",
    "    \"Open\",\n",
    "    \"High\",\n",
    "    \"Low\",\n",
    "    \"Close\",\n",
    "    \"Month\",\n",
    "    \"Normalization\",\n",
    "    \"Percentage_Change\",\n",
    "    \"Accumulation\"\n",
    "]]\n",
    "# Display the updated dataframe\n",
    "apple_df.head()"
   ]
  },
  {
   "cell_type": "code",
   "execution_count": 12,
   "id": "40bb154a-3518-4670-bf3a-cc3ef9f05d0c",
   "metadata": {
    "pycharm": {
     "name": "#%%\n"
    }
   },
   "outputs": [],
   "source": [
    "# Define a generic function to read the stock data from Yahoo Finance and insert into a dataframe\n",
    "def stocks_to_df(Ticker, start = \"2023-01-01\", end = \"2023-12-31\"):\n",
    "    temp_df = data.get_data_yahoo(Ticker, start=start, end=end)\n",
    "    temp_df = temp_df.apply(lambda x: round(x,2))\n",
    "    temp_vol = temp_df[[\"Adj Close\", \"Volume\"]]\n",
    "    temp_vol[\"stock_id\"] = Ticker\n",
    "    temp_vol.reset_index(inplace=True)\n",
    "    temp_vol = temp_vol[[\"Date\",\"stock_id\",\"Adj Close\",\"Volume\"]]\n",
    "    temp_df.drop(columns= [\"Adj Close\", \"Volume\"], inplace=True)\n",
    "    temp_df[\"Percentage_Change\"] = temp_df[\"Close\"].pct_change()\n",
    "    temp_df.reset_index(inplace=True)\n",
    "    temp_df[\"Month\"] = temp_df[\"Date\"].dt.month\n",
    "    temp_df[\"Normalization\"] = temp_df[\"Close\"]/temp_df[\"Close\"][0]\n",
    "    temp_df[\"stock_id\"] = Ticker\n",
    "    temp_df[\"Accumulation\"] = (temp_df[\"Percentage_Change\"]+1).cumprod()\n",
    "    temp_df[[\n",
    "        \"Normalization\",\n",
    "        \"Percentage_Change\",\n",
    "        \"Accumulation\"\n",
    "    ]]=temp_df[[\n",
    "        \"Normalization\",\n",
    "        \"Percentage_Change\",\n",
    "        \"Accumulation\"\n",
    "    ]].apply(lambda x:round(x,4))\n",
    "    temp_df = temp_df[[\n",
    "        \"Date\",\n",
    "        \"stock_id\",\n",
    "        \"Open\",\n",
    "        \"High\",\n",
    "        \"Low\",\n",
    "        \"Close\",\n",
    "        \"Month\",\n",
    "        \"Normalization\",\n",
    "        \"Percentage_Change\",\n",
    "        \"Accumulation\"\n",
    "    ]]\n",
    "\n",
    "    return temp_df,temp_vol   "
   ]
  },
  {
   "cell_type": "code",
   "execution_count": 13,
   "id": "0802313d-2137-4632-9256-730c00917e5e",
   "metadata": {
    "scrolled": true,
    "pycharm": {
     "name": "#%%\n"
    }
   },
   "outputs": [
    {
     "name": "stderr",
     "output_type": "stream",
     "text": [
      "[*********************100%%**********************]  1 of 1 completed"
     ]
    },
    {
     "name": "stdout",
     "output_type": "stream",
     "text": [
      "-----------Price Table-----------\n"
     ]
    },
    {
     "name": "stderr",
     "output_type": "stream",
     "text": [
      "\n"
     ]
    },
    {
     "data": {
      "text/html": [
       "<div>\n",
       "<style scoped>\n",
       "    .dataframe tbody tr th:only-of-type {\n",
       "        vertical-align: middle;\n",
       "    }\n",
       "\n",
       "    .dataframe tbody tr th {\n",
       "        vertical-align: top;\n",
       "    }\n",
       "\n",
       "    .dataframe thead th {\n",
       "        text-align: right;\n",
       "    }\n",
       "</style>\n",
       "<table border=\"1\" class=\"dataframe\">\n",
       "  <thead>\n",
       "    <tr style=\"text-align: right;\">\n",
       "      <th></th>\n",
       "      <th>Date</th>\n",
       "      <th>stock_id</th>\n",
       "      <th>Open</th>\n",
       "      <th>High</th>\n",
       "      <th>Low</th>\n",
       "      <th>Close</th>\n",
       "      <th>Month</th>\n",
       "      <th>Normalization</th>\n",
       "      <th>Percentage_Change</th>\n",
       "      <th>Accumulation</th>\n",
       "    </tr>\n",
       "  </thead>\n",
       "  <tbody>\n",
       "    <tr>\n",
       "      <th>0</th>\n",
       "      <td>2023-01-03</td>\n",
       "      <td>GOOGL</td>\n",
       "      <td>89.59</td>\n",
       "      <td>91.05</td>\n",
       "      <td>88.52</td>\n",
       "      <td>89.12</td>\n",
       "      <td>1</td>\n",
       "      <td>1.0000</td>\n",
       "      <td>NaN</td>\n",
       "      <td>NaN</td>\n",
       "    </tr>\n",
       "    <tr>\n",
       "      <th>1</th>\n",
       "      <td>2023-01-04</td>\n",
       "      <td>GOOGL</td>\n",
       "      <td>90.35</td>\n",
       "      <td>90.65</td>\n",
       "      <td>87.27</td>\n",
       "      <td>88.08</td>\n",
       "      <td>1</td>\n",
       "      <td>0.9883</td>\n",
       "      <td>-0.0117</td>\n",
       "      <td>0.9883</td>\n",
       "    </tr>\n",
       "    <tr>\n",
       "      <th>2</th>\n",
       "      <td>2023-01-05</td>\n",
       "      <td>GOOGL</td>\n",
       "      <td>87.47</td>\n",
       "      <td>87.57</td>\n",
       "      <td>85.90</td>\n",
       "      <td>86.20</td>\n",
       "      <td>1</td>\n",
       "      <td>0.9672</td>\n",
       "      <td>-0.0213</td>\n",
       "      <td>0.9672</td>\n",
       "    </tr>\n",
       "    <tr>\n",
       "      <th>3</th>\n",
       "      <td>2023-01-06</td>\n",
       "      <td>GOOGL</td>\n",
       "      <td>86.79</td>\n",
       "      <td>87.69</td>\n",
       "      <td>84.86</td>\n",
       "      <td>87.34</td>\n",
       "      <td>1</td>\n",
       "      <td>0.9800</td>\n",
       "      <td>0.0132</td>\n",
       "      <td>0.9800</td>\n",
       "    </tr>\n",
       "    <tr>\n",
       "      <th>4</th>\n",
       "      <td>2023-01-09</td>\n",
       "      <td>GOOGL</td>\n",
       "      <td>88.36</td>\n",
       "      <td>90.05</td>\n",
       "      <td>87.86</td>\n",
       "      <td>88.02</td>\n",
       "      <td>1</td>\n",
       "      <td>0.9877</td>\n",
       "      <td>0.0078</td>\n",
       "      <td>0.9877</td>\n",
       "    </tr>\n",
       "  </tbody>\n",
       "</table>\n",
       "</div>"
      ],
      "text/plain": [
       "        Date stock_id   Open   High    Low  Close  Month  Normalization  \\\n",
       "0 2023-01-03    GOOGL  89.59  91.05  88.52  89.12      1         1.0000   \n",
       "1 2023-01-04    GOOGL  90.35  90.65  87.27  88.08      1         0.9883   \n",
       "2 2023-01-05    GOOGL  87.47  87.57  85.90  86.20      1         0.9672   \n",
       "3 2023-01-06    GOOGL  86.79  87.69  84.86  87.34      1         0.9800   \n",
       "4 2023-01-09    GOOGL  88.36  90.05  87.86  88.02      1         0.9877   \n",
       "\n",
       "   Percentage_Change  Accumulation  \n",
       "0                NaN           NaN  \n",
       "1            -0.0117        0.9883  \n",
       "2            -0.0213        0.9672  \n",
       "3             0.0132        0.9800  \n",
       "4             0.0078        0.9877  "
      ]
     },
     "metadata": {},
     "output_type": "display_data"
    },
    {
     "name": "stdout",
     "output_type": "stream",
     "text": [
      "-----------Volume Table-----------\n"
     ]
    },
    {
     "data": {
      "text/html": [
       "<div>\n",
       "<style scoped>\n",
       "    .dataframe tbody tr th:only-of-type {\n",
       "        vertical-align: middle;\n",
       "    }\n",
       "\n",
       "    .dataframe tbody tr th {\n",
       "        vertical-align: top;\n",
       "    }\n",
       "\n",
       "    .dataframe thead th {\n",
       "        text-align: right;\n",
       "    }\n",
       "</style>\n",
       "<table border=\"1\" class=\"dataframe\">\n",
       "  <thead>\n",
       "    <tr style=\"text-align: right;\">\n",
       "      <th></th>\n",
       "      <th>Date</th>\n",
       "      <th>stock_id</th>\n",
       "      <th>Adj Close</th>\n",
       "      <th>Volume</th>\n",
       "    </tr>\n",
       "  </thead>\n",
       "  <tbody>\n",
       "    <tr>\n",
       "      <th>0</th>\n",
       "      <td>2023-01-03</td>\n",
       "      <td>GOOGL</td>\n",
       "      <td>89.12</td>\n",
       "      <td>28131200</td>\n",
       "    </tr>\n",
       "    <tr>\n",
       "      <th>1</th>\n",
       "      <td>2023-01-04</td>\n",
       "      <td>GOOGL</td>\n",
       "      <td>88.08</td>\n",
       "      <td>34854800</td>\n",
       "    </tr>\n",
       "    <tr>\n",
       "      <th>2</th>\n",
       "      <td>2023-01-05</td>\n",
       "      <td>GOOGL</td>\n",
       "      <td>86.20</td>\n",
       "      <td>27194400</td>\n",
       "    </tr>\n",
       "    <tr>\n",
       "      <th>3</th>\n",
       "      <td>2023-01-06</td>\n",
       "      <td>GOOGL</td>\n",
       "      <td>87.34</td>\n",
       "      <td>41381500</td>\n",
       "    </tr>\n",
       "    <tr>\n",
       "      <th>4</th>\n",
       "      <td>2023-01-09</td>\n",
       "      <td>GOOGL</td>\n",
       "      <td>88.02</td>\n",
       "      <td>29003900</td>\n",
       "    </tr>\n",
       "  </tbody>\n",
       "</table>\n",
       "</div>"
      ],
      "text/plain": [
       "        Date stock_id  Adj Close    Volume\n",
       "0 2023-01-03    GOOGL      89.12  28131200\n",
       "1 2023-01-04    GOOGL      88.08  34854800\n",
       "2 2023-01-05    GOOGL      86.20  27194400\n",
       "3 2023-01-06    GOOGL      87.34  41381500\n",
       "4 2023-01-09    GOOGL      88.02  29003900"
      ]
     },
     "metadata": {},
     "output_type": "display_data"
    }
   ],
   "source": [
    "# Load all relevant data related to Google Stock based on the earlier defined function\n",
    "google_df = stocks_to_df(\"GOOGL\")\n",
    "print(\"-----------Price Table-----------\")\n",
    "display(google_df[0].head())\n",
    "print(\"-----------Volume Table-----------\")\n",
    "display(google_df[1].head())"
   ]
  },
  {
   "cell_type": "code",
   "execution_count": 14,
   "id": "d2c2d674-6835-4ad5-b693-c30b2110eaa9",
   "metadata": {
    "pycharm": {
     "name": "#%%\n"
    }
   },
   "outputs": [
    {
     "name": "stderr",
     "output_type": "stream",
     "text": [
      "[*********************100%%**********************]  1 of 1 completed"
     ]
    },
    {
     "name": "stdout",
     "output_type": "stream",
     "text": [
      "-----------Price Table-----------\n"
     ]
    },
    {
     "name": "stderr",
     "output_type": "stream",
     "text": [
      "\n"
     ]
    },
    {
     "data": {
      "text/html": [
       "<div>\n",
       "<style scoped>\n",
       "    .dataframe tbody tr th:only-of-type {\n",
       "        vertical-align: middle;\n",
       "    }\n",
       "\n",
       "    .dataframe tbody tr th {\n",
       "        vertical-align: top;\n",
       "    }\n",
       "\n",
       "    .dataframe thead th {\n",
       "        text-align: right;\n",
       "    }\n",
       "</style>\n",
       "<table border=\"1\" class=\"dataframe\">\n",
       "  <thead>\n",
       "    <tr style=\"text-align: right;\">\n",
       "      <th></th>\n",
       "      <th>Date</th>\n",
       "      <th>stock_id</th>\n",
       "      <th>Open</th>\n",
       "      <th>High</th>\n",
       "      <th>Low</th>\n",
       "      <th>Close</th>\n",
       "      <th>Month</th>\n",
       "      <th>Normalization</th>\n",
       "      <th>Percentage_Change</th>\n",
       "      <th>Accumulation</th>\n",
       "    </tr>\n",
       "  </thead>\n",
       "  <tbody>\n",
       "    <tr>\n",
       "      <th>0</th>\n",
       "      <td>2023-01-03</td>\n",
       "      <td>INTC</td>\n",
       "      <td>27.05</td>\n",
       "      <td>27.07</td>\n",
       "      <td>26.37</td>\n",
       "      <td>26.73</td>\n",
       "      <td>1</td>\n",
       "      <td>1.0000</td>\n",
       "      <td>NaN</td>\n",
       "      <td>NaN</td>\n",
       "    </tr>\n",
       "    <tr>\n",
       "      <th>1</th>\n",
       "      <td>2023-01-04</td>\n",
       "      <td>INTC</td>\n",
       "      <td>27.41</td>\n",
       "      <td>27.92</td>\n",
       "      <td>27.16</td>\n",
       "      <td>27.68</td>\n",
       "      <td>1</td>\n",
       "      <td>1.0355</td>\n",
       "      <td>0.0355</td>\n",
       "      <td>1.0355</td>\n",
       "    </tr>\n",
       "    <tr>\n",
       "      <th>2</th>\n",
       "      <td>2023-01-05</td>\n",
       "      <td>INTC</td>\n",
       "      <td>27.44</td>\n",
       "      <td>27.78</td>\n",
       "      <td>27.38</td>\n",
       "      <td>27.56</td>\n",
       "      <td>1</td>\n",
       "      <td>1.0311</td>\n",
       "      <td>-0.0043</td>\n",
       "      <td>1.0311</td>\n",
       "    </tr>\n",
       "    <tr>\n",
       "      <th>3</th>\n",
       "      <td>2023-01-06</td>\n",
       "      <td>INTC</td>\n",
       "      <td>27.93</td>\n",
       "      <td>28.83</td>\n",
       "      <td>27.38</td>\n",
       "      <td>28.73</td>\n",
       "      <td>1</td>\n",
       "      <td>1.0748</td>\n",
       "      <td>0.0425</td>\n",
       "      <td>1.0748</td>\n",
       "    </tr>\n",
       "    <tr>\n",
       "      <th>4</th>\n",
       "      <td>2023-01-09</td>\n",
       "      <td>INTC</td>\n",
       "      <td>28.84</td>\n",
       "      <td>29.87</td>\n",
       "      <td>28.84</td>\n",
       "      <td>29.31</td>\n",
       "      <td>1</td>\n",
       "      <td>1.0965</td>\n",
       "      <td>0.0202</td>\n",
       "      <td>1.0965</td>\n",
       "    </tr>\n",
       "  </tbody>\n",
       "</table>\n",
       "</div>"
      ],
      "text/plain": [
       "        Date stock_id   Open   High    Low  Close  Month  Normalization  \\\n",
       "0 2023-01-03     INTC  27.05  27.07  26.37  26.73      1         1.0000   \n",
       "1 2023-01-04     INTC  27.41  27.92  27.16  27.68      1         1.0355   \n",
       "2 2023-01-05     INTC  27.44  27.78  27.38  27.56      1         1.0311   \n",
       "3 2023-01-06     INTC  27.93  28.83  27.38  28.73      1         1.0748   \n",
       "4 2023-01-09     INTC  28.84  29.87  28.84  29.31      1         1.0965   \n",
       "\n",
       "   Percentage_Change  Accumulation  \n",
       "0                NaN           NaN  \n",
       "1             0.0355        1.0355  \n",
       "2            -0.0043        1.0311  \n",
       "3             0.0425        1.0748  \n",
       "4             0.0202        1.0965  "
      ]
     },
     "metadata": {},
     "output_type": "display_data"
    },
    {
     "name": "stdout",
     "output_type": "stream",
     "text": [
      "-----------Volume Table-----------\n"
     ]
    },
    {
     "data": {
      "text/html": [
       "<div>\n",
       "<style scoped>\n",
       "    .dataframe tbody tr th:only-of-type {\n",
       "        vertical-align: middle;\n",
       "    }\n",
       "\n",
       "    .dataframe tbody tr th {\n",
       "        vertical-align: top;\n",
       "    }\n",
       "\n",
       "    .dataframe thead th {\n",
       "        text-align: right;\n",
       "    }\n",
       "</style>\n",
       "<table border=\"1\" class=\"dataframe\">\n",
       "  <thead>\n",
       "    <tr style=\"text-align: right;\">\n",
       "      <th></th>\n",
       "      <th>Date</th>\n",
       "      <th>stock_id</th>\n",
       "      <th>Adj Close</th>\n",
       "      <th>Volume</th>\n",
       "    </tr>\n",
       "  </thead>\n",
       "  <tbody>\n",
       "    <tr>\n",
       "      <th>0</th>\n",
       "      <td>2023-01-03</td>\n",
       "      <td>INTC</td>\n",
       "      <td>26.04</td>\n",
       "      <td>31308000</td>\n",
       "    </tr>\n",
       "    <tr>\n",
       "      <th>1</th>\n",
       "      <td>2023-01-04</td>\n",
       "      <td>INTC</td>\n",
       "      <td>26.97</td>\n",
       "      <td>37665200</td>\n",
       "    </tr>\n",
       "    <tr>\n",
       "      <th>2</th>\n",
       "      <td>2023-01-05</td>\n",
       "      <td>INTC</td>\n",
       "      <td>26.85</td>\n",
       "      <td>33552600</td>\n",
       "    </tr>\n",
       "    <tr>\n",
       "      <th>3</th>\n",
       "      <td>2023-01-06</td>\n",
       "      <td>INTC</td>\n",
       "      <td>27.99</td>\n",
       "      <td>31788600</td>\n",
       "    </tr>\n",
       "    <tr>\n",
       "      <th>4</th>\n",
       "      <td>2023-01-09</td>\n",
       "      <td>INTC</td>\n",
       "      <td>28.56</td>\n",
       "      <td>37493200</td>\n",
       "    </tr>\n",
       "  </tbody>\n",
       "</table>\n",
       "</div>"
      ],
      "text/plain": [
       "        Date stock_id  Adj Close    Volume\n",
       "0 2023-01-03     INTC      26.04  31308000\n",
       "1 2023-01-04     INTC      26.97  37665200\n",
       "2 2023-01-05     INTC      26.85  33552600\n",
       "3 2023-01-06     INTC      27.99  31788600\n",
       "4 2023-01-09     INTC      28.56  37493200"
      ]
     },
     "metadata": {},
     "output_type": "display_data"
    }
   ],
   "source": [
    "# Load all relevant data related to Intel Stock based on the earlier defined function\n",
    "intel_df = stocks_to_df(\"INTC\")\n",
    "print(\"-----------Price Table-----------\")\n",
    "display(intel_df[0].head())\n",
    "print(\"-----------Volume Table-----------\")\n",
    "display(intel_df[1].head())"
   ]
  },
  {
   "cell_type": "code",
   "execution_count": 15,
   "id": "b99c4a62-a8b1-4da5-b1de-0b45433f8ac9",
   "metadata": {
    "pycharm": {
     "name": "#%%\n"
    }
   },
   "outputs": [
    {
     "name": "stderr",
     "output_type": "stream",
     "text": [
      "[*********************100%%**********************]  1 of 1 completed"
     ]
    },
    {
     "name": "stdout",
     "output_type": "stream",
     "text": [
      "-----------Price Table-----------\n"
     ]
    },
    {
     "name": "stderr",
     "output_type": "stream",
     "text": [
      "\n"
     ]
    },
    {
     "data": {
      "text/html": [
       "<div>\n",
       "<style scoped>\n",
       "    .dataframe tbody tr th:only-of-type {\n",
       "        vertical-align: middle;\n",
       "    }\n",
       "\n",
       "    .dataframe tbody tr th {\n",
       "        vertical-align: top;\n",
       "    }\n",
       "\n",
       "    .dataframe thead th {\n",
       "        text-align: right;\n",
       "    }\n",
       "</style>\n",
       "<table border=\"1\" class=\"dataframe\">\n",
       "  <thead>\n",
       "    <tr style=\"text-align: right;\">\n",
       "      <th></th>\n",
       "      <th>Date</th>\n",
       "      <th>stock_id</th>\n",
       "      <th>Open</th>\n",
       "      <th>High</th>\n",
       "      <th>Low</th>\n",
       "      <th>Close</th>\n",
       "      <th>Month</th>\n",
       "      <th>Normalization</th>\n",
       "      <th>Percentage_Change</th>\n",
       "      <th>Accumulation</th>\n",
       "    </tr>\n",
       "  </thead>\n",
       "  <tbody>\n",
       "    <tr>\n",
       "      <th>0</th>\n",
       "      <td>2023-01-03</td>\n",
       "      <td>MSFT</td>\n",
       "      <td>243.08</td>\n",
       "      <td>245.75</td>\n",
       "      <td>237.40</td>\n",
       "      <td>239.58</td>\n",
       "      <td>1</td>\n",
       "      <td>1.0000</td>\n",
       "      <td>NaN</td>\n",
       "      <td>NaN</td>\n",
       "    </tr>\n",
       "    <tr>\n",
       "      <th>1</th>\n",
       "      <td>2023-01-04</td>\n",
       "      <td>MSFT</td>\n",
       "      <td>232.28</td>\n",
       "      <td>232.87</td>\n",
       "      <td>225.96</td>\n",
       "      <td>229.10</td>\n",
       "      <td>1</td>\n",
       "      <td>0.9563</td>\n",
       "      <td>-0.0437</td>\n",
       "      <td>0.9563</td>\n",
       "    </tr>\n",
       "    <tr>\n",
       "      <th>2</th>\n",
       "      <td>2023-01-05</td>\n",
       "      <td>MSFT</td>\n",
       "      <td>227.20</td>\n",
       "      <td>227.55</td>\n",
       "      <td>221.76</td>\n",
       "      <td>222.31</td>\n",
       "      <td>1</td>\n",
       "      <td>0.9279</td>\n",
       "      <td>-0.0296</td>\n",
       "      <td>0.9279</td>\n",
       "    </tr>\n",
       "    <tr>\n",
       "      <th>3</th>\n",
       "      <td>2023-01-06</td>\n",
       "      <td>MSFT</td>\n",
       "      <td>223.00</td>\n",
       "      <td>225.76</td>\n",
       "      <td>219.35</td>\n",
       "      <td>224.93</td>\n",
       "      <td>1</td>\n",
       "      <td>0.9389</td>\n",
       "      <td>0.0118</td>\n",
       "      <td>0.9389</td>\n",
       "    </tr>\n",
       "    <tr>\n",
       "      <th>4</th>\n",
       "      <td>2023-01-09</td>\n",
       "      <td>MSFT</td>\n",
       "      <td>226.45</td>\n",
       "      <td>231.24</td>\n",
       "      <td>226.41</td>\n",
       "      <td>227.12</td>\n",
       "      <td>1</td>\n",
       "      <td>0.9480</td>\n",
       "      <td>0.0097</td>\n",
       "      <td>0.9480</td>\n",
       "    </tr>\n",
       "  </tbody>\n",
       "</table>\n",
       "</div>"
      ],
      "text/plain": [
       "        Date stock_id    Open    High     Low   Close  Month  Normalization  \\\n",
       "0 2023-01-03     MSFT  243.08  245.75  237.40  239.58      1         1.0000   \n",
       "1 2023-01-04     MSFT  232.28  232.87  225.96  229.10      1         0.9563   \n",
       "2 2023-01-05     MSFT  227.20  227.55  221.76  222.31      1         0.9279   \n",
       "3 2023-01-06     MSFT  223.00  225.76  219.35  224.93      1         0.9389   \n",
       "4 2023-01-09     MSFT  226.45  231.24  226.41  227.12      1         0.9480   \n",
       "\n",
       "   Percentage_Change  Accumulation  \n",
       "0                NaN           NaN  \n",
       "1            -0.0437        0.9563  \n",
       "2            -0.0296        0.9279  \n",
       "3             0.0118        0.9389  \n",
       "4             0.0097        0.9480  "
      ]
     },
     "metadata": {},
     "output_type": "display_data"
    },
    {
     "name": "stdout",
     "output_type": "stream",
     "text": [
      "-----------Volume Table-----------\n"
     ]
    },
    {
     "data": {
      "text/html": [
       "<div>\n",
       "<style scoped>\n",
       "    .dataframe tbody tr th:only-of-type {\n",
       "        vertical-align: middle;\n",
       "    }\n",
       "\n",
       "    .dataframe tbody tr th {\n",
       "        vertical-align: top;\n",
       "    }\n",
       "\n",
       "    .dataframe thead th {\n",
       "        text-align: right;\n",
       "    }\n",
       "</style>\n",
       "<table border=\"1\" class=\"dataframe\">\n",
       "  <thead>\n",
       "    <tr style=\"text-align: right;\">\n",
       "      <th></th>\n",
       "      <th>Date</th>\n",
       "      <th>stock_id</th>\n",
       "      <th>Adj Close</th>\n",
       "      <th>Volume</th>\n",
       "    </tr>\n",
       "  </thead>\n",
       "  <tbody>\n",
       "    <tr>\n",
       "      <th>0</th>\n",
       "      <td>2023-01-03</td>\n",
       "      <td>MSFT</td>\n",
       "      <td>237.04</td>\n",
       "      <td>25740000</td>\n",
       "    </tr>\n",
       "    <tr>\n",
       "      <th>1</th>\n",
       "      <td>2023-01-04</td>\n",
       "      <td>MSFT</td>\n",
       "      <td>226.67</td>\n",
       "      <td>50623400</td>\n",
       "    </tr>\n",
       "    <tr>\n",
       "      <th>2</th>\n",
       "      <td>2023-01-05</td>\n",
       "      <td>MSFT</td>\n",
       "      <td>219.95</td>\n",
       "      <td>39585600</td>\n",
       "    </tr>\n",
       "    <tr>\n",
       "      <th>3</th>\n",
       "      <td>2023-01-06</td>\n",
       "      <td>MSFT</td>\n",
       "      <td>222.54</td>\n",
       "      <td>43613600</td>\n",
       "    </tr>\n",
       "    <tr>\n",
       "      <th>4</th>\n",
       "      <td>2023-01-09</td>\n",
       "      <td>MSFT</td>\n",
       "      <td>224.71</td>\n",
       "      <td>27369800</td>\n",
       "    </tr>\n",
       "  </tbody>\n",
       "</table>\n",
       "</div>"
      ],
      "text/plain": [
       "        Date stock_id  Adj Close    Volume\n",
       "0 2023-01-03     MSFT     237.04  25740000\n",
       "1 2023-01-04     MSFT     226.67  50623400\n",
       "2 2023-01-05     MSFT     219.95  39585600\n",
       "3 2023-01-06     MSFT     222.54  43613600\n",
       "4 2023-01-09     MSFT     224.71  27369800"
      ]
     },
     "metadata": {},
     "output_type": "display_data"
    }
   ],
   "source": [
    "# Load all relevant data related to Microsoft Stock based on the earlier defined function\n",
    "microsoft_df = stocks_to_df(\"MSFT\")\n",
    "print(\"-----------Price Table-----------\")\n",
    "display(microsoft_df[0].head())\n",
    "print(\"-----------Volume Table-----------\")\n",
    "display(microsoft_df[1].head())"
   ]
  },
  {
   "cell_type": "code",
   "execution_count": 16,
   "id": "7c646e46-89f6-48be-84d9-5f209dbde8a3",
   "metadata": {
    "pycharm": {
     "name": "#%%\n"
    }
   },
   "outputs": [
    {
     "name": "stderr",
     "output_type": "stream",
     "text": [
      "[*********************100%%**********************]  1 of 1 completed"
     ]
    },
    {
     "name": "stdout",
     "output_type": "stream",
     "text": [
      "-----------Price Table-----------\n"
     ]
    },
    {
     "name": "stderr",
     "output_type": "stream",
     "text": [
      "\n"
     ]
    },
    {
     "data": {
      "text/html": [
       "<div>\n",
       "<style scoped>\n",
       "    .dataframe tbody tr th:only-of-type {\n",
       "        vertical-align: middle;\n",
       "    }\n",
       "\n",
       "    .dataframe tbody tr th {\n",
       "        vertical-align: top;\n",
       "    }\n",
       "\n",
       "    .dataframe thead th {\n",
       "        text-align: right;\n",
       "    }\n",
       "</style>\n",
       "<table border=\"1\" class=\"dataframe\">\n",
       "  <thead>\n",
       "    <tr style=\"text-align: right;\">\n",
       "      <th></th>\n",
       "      <th>Date</th>\n",
       "      <th>stock_id</th>\n",
       "      <th>Open</th>\n",
       "      <th>High</th>\n",
       "      <th>Low</th>\n",
       "      <th>Close</th>\n",
       "      <th>Month</th>\n",
       "      <th>Normalization</th>\n",
       "      <th>Percentage_Change</th>\n",
       "      <th>Accumulation</th>\n",
       "    </tr>\n",
       "  </thead>\n",
       "  <tbody>\n",
       "    <tr>\n",
       "      <th>0</th>\n",
       "      <td>2023-01-03</td>\n",
       "      <td>ORCL</td>\n",
       "      <td>82.47</td>\n",
       "      <td>83.84</td>\n",
       "      <td>82.26</td>\n",
       "      <td>83.72</td>\n",
       "      <td>1</td>\n",
       "      <td>1.0000</td>\n",
       "      <td>NaN</td>\n",
       "      <td>NaN</td>\n",
       "    </tr>\n",
       "    <tr>\n",
       "      <th>1</th>\n",
       "      <td>2023-01-04</td>\n",
       "      <td>ORCL</td>\n",
       "      <td>84.20</td>\n",
       "      <td>85.17</td>\n",
       "      <td>83.64</td>\n",
       "      <td>84.48</td>\n",
       "      <td>1</td>\n",
       "      <td>1.0091</td>\n",
       "      <td>0.0091</td>\n",
       "      <td>1.0091</td>\n",
       "    </tr>\n",
       "    <tr>\n",
       "      <th>2</th>\n",
       "      <td>2023-01-05</td>\n",
       "      <td>ORCL</td>\n",
       "      <td>85.00</td>\n",
       "      <td>85.40</td>\n",
       "      <td>83.22</td>\n",
       "      <td>84.31</td>\n",
       "      <td>1</td>\n",
       "      <td>1.0070</td>\n",
       "      <td>-0.0020</td>\n",
       "      <td>1.0070</td>\n",
       "    </tr>\n",
       "    <tr>\n",
       "      <th>3</th>\n",
       "      <td>2023-01-06</td>\n",
       "      <td>ORCL</td>\n",
       "      <td>84.74</td>\n",
       "      <td>86.34</td>\n",
       "      <td>83.82</td>\n",
       "      <td>85.66</td>\n",
       "      <td>1</td>\n",
       "      <td>1.0232</td>\n",
       "      <td>0.0160</td>\n",
       "      <td>1.0232</td>\n",
       "    </tr>\n",
       "    <tr>\n",
       "      <th>4</th>\n",
       "      <td>2023-01-09</td>\n",
       "      <td>ORCL</td>\n",
       "      <td>86.84</td>\n",
       "      <td>87.59</td>\n",
       "      <td>86.16</td>\n",
       "      <td>86.42</td>\n",
       "      <td>1</td>\n",
       "      <td>1.0323</td>\n",
       "      <td>0.0089</td>\n",
       "      <td>1.0323</td>\n",
       "    </tr>\n",
       "  </tbody>\n",
       "</table>\n",
       "</div>"
      ],
      "text/plain": [
       "        Date stock_id   Open   High    Low  Close  Month  Normalization  \\\n",
       "0 2023-01-03     ORCL  82.47  83.84  82.26  83.72      1         1.0000   \n",
       "1 2023-01-04     ORCL  84.20  85.17  83.64  84.48      1         1.0091   \n",
       "2 2023-01-05     ORCL  85.00  85.40  83.22  84.31      1         1.0070   \n",
       "3 2023-01-06     ORCL  84.74  86.34  83.82  85.66      1         1.0232   \n",
       "4 2023-01-09     ORCL  86.84  87.59  86.16  86.42      1         1.0323   \n",
       "\n",
       "   Percentage_Change  Accumulation  \n",
       "0                NaN           NaN  \n",
       "1             0.0091        1.0091  \n",
       "2            -0.0020        1.0070  \n",
       "3             0.0160        1.0232  \n",
       "4             0.0089        1.0323  "
      ]
     },
     "metadata": {},
     "output_type": "display_data"
    },
    {
     "name": "stdout",
     "output_type": "stream",
     "text": [
      "-----------Volume Table-----------\n"
     ]
    },
    {
     "data": {
      "text/html": [
       "<div>\n",
       "<style scoped>\n",
       "    .dataframe tbody tr th:only-of-type {\n",
       "        vertical-align: middle;\n",
       "    }\n",
       "\n",
       "    .dataframe tbody tr th {\n",
       "        vertical-align: top;\n",
       "    }\n",
       "\n",
       "    .dataframe thead th {\n",
       "        text-align: right;\n",
       "    }\n",
       "</style>\n",
       "<table border=\"1\" class=\"dataframe\">\n",
       "  <thead>\n",
       "    <tr style=\"text-align: right;\">\n",
       "      <th></th>\n",
       "      <th>Date</th>\n",
       "      <th>stock_id</th>\n",
       "      <th>Adj Close</th>\n",
       "      <th>Volume</th>\n",
       "    </tr>\n",
       "  </thead>\n",
       "  <tbody>\n",
       "    <tr>\n",
       "      <th>0</th>\n",
       "      <td>2023-01-03</td>\n",
       "      <td>ORCL</td>\n",
       "      <td>81.88</td>\n",
       "      <td>8997500</td>\n",
       "    </tr>\n",
       "    <tr>\n",
       "      <th>1</th>\n",
       "      <td>2023-01-04</td>\n",
       "      <td>ORCL</td>\n",
       "      <td>82.63</td>\n",
       "      <td>7836200</td>\n",
       "    </tr>\n",
       "    <tr>\n",
       "      <th>2</th>\n",
       "      <td>2023-01-05</td>\n",
       "      <td>ORCL</td>\n",
       "      <td>82.46</td>\n",
       "      <td>7643800</td>\n",
       "    </tr>\n",
       "    <tr>\n",
       "      <th>3</th>\n",
       "      <td>2023-01-06</td>\n",
       "      <td>ORCL</td>\n",
       "      <td>83.78</td>\n",
       "      <td>8641600</td>\n",
       "    </tr>\n",
       "    <tr>\n",
       "      <th>4</th>\n",
       "      <td>2023-01-09</td>\n",
       "      <td>ORCL</td>\n",
       "      <td>84.84</td>\n",
       "      <td>7519700</td>\n",
       "    </tr>\n",
       "  </tbody>\n",
       "</table>\n",
       "</div>"
      ],
      "text/plain": [
       "        Date stock_id  Adj Close   Volume\n",
       "0 2023-01-03     ORCL      81.88  8997500\n",
       "1 2023-01-04     ORCL      82.63  7836200\n",
       "2 2023-01-05     ORCL      82.46  7643800\n",
       "3 2023-01-06     ORCL      83.78  8641600\n",
       "4 2023-01-09     ORCL      84.84  7519700"
      ]
     },
     "metadata": {},
     "output_type": "display_data"
    }
   ],
   "source": [
    "# Load all relevant data related to Oracle Stock based on the earlier defined function\n",
    "oracle_df = stocks_to_df(\"ORCL\")\n",
    "print(\"-----------Price Table-----------\")\n",
    "display(oracle_df[0].head())\n",
    "print(\"-----------Volume Table-----------\")\n",
    "display(oracle_df[1].head())"
   ]
  },
  {
   "cell_type": "markdown",
   "id": "6610a725-a515-4b04-bbb5-03e546925766",
   "metadata": {
    "pycharm": {
     "name": "#%% md\n"
    }
   },
   "source": [
    "# Create SQLite Database and store the data\n",
    "## We decided to use EQL Lite because:\n",
    "- Our code is supposed to run on the local computer and does not need to manage high traffic.\n",
    "- SQLite can change files into smaller-size archives with lesser metadata.\n",
    "- SQLite is used as a temporary dataset to get processed with some data within an application."
   ]
  },
  {
   "cell_type": "code",
   "execution_count": 17,
   "id": "6b50f5ab-d9b6-4028-9840-7882d93a08bf",
   "metadata": {
    "pycharm": {
     "name": "#%%\n"
    }
   },
   "outputs": [],
   "source": [
    "# Specify the name of the database\n",
    "db_name = \"stock_analysis.db\"\n",
    "\n",
    "# Connecting to sqlite\n",
    "connect = sqlite3.connect(db_name)\n",
    "\n",
    "# cursor object \n",
    "cursor = connect.cursor()"
   ]
  },
  {
   "cell_type": "code",
   "execution_count": 18,
   "id": "d28e0708-458b-4f82-b700-560d8df505c1",
   "metadata": {
    "pycharm": {
     "name": "#%%\n"
    }
   },
   "outputs": [
    {
     "data": {
      "text/plain": [
       "<sqlite3.Cursor at 0x13903b440>"
      ]
     },
     "execution_count": 18,
     "metadata": {},
     "output_type": "execute_result"
    }
   ],
   "source": [
    "# Drop the stock table if already exists.\n",
    "query = \"\"\"DROP TABLE IF EXISTS stock\"\"\"\n",
    "cursor.execute(query)\n",
    "\n",
    "# Creating table\n",
    "table = \"\"\"\n",
    "CREATE TABLE stock\n",
    "(\n",
    "    Stock_id INT, \n",
    "    Stock_name VARCHAR(20) NOT NULL,\n",
    "    Ticker VARCHAR(10) NOT NULL,\n",
    "    PRIMARY KEY (Stock_id)\n",
    ");\"\"\"\n",
    "\n",
    "cursor.execute(table)"
   ]
  },
  {
   "cell_type": "code",
   "execution_count": 19,
   "id": "942aeec1-b94e-47be-95dc-4fdd841c3ef5",
   "metadata": {
    "pycharm": {
     "name": "#%%\n"
    }
   },
   "outputs": [],
   "source": [
    "query = \"\"\"\n",
    "INSERT INTO stock VALUES\n",
    "    (1, 'Apple', 'AAPL'),\n",
    "    (2, 'Google', 'GOOGL'),\n",
    "    (3, 'Intel', 'INTC'),\n",
    "    (4, 'Microsoft', 'MSTF'),\n",
    "    (5, 'Oracle', 'ORCL')\n",
    "\"\"\"\n",
    "\n",
    "cursor.execute(query)\n",
    "\n",
    "# Commit the changes in the database     \n",
    "connect.commit() "
   ]
  },
  {
   "cell_type": "code",
   "execution_count": 20,
   "id": "6f378000-1a95-40b3-8538-f33527d20bf9",
   "metadata": {
    "pycharm": {
     "name": "#%%\n"
    }
   },
   "outputs": [
    {
     "name": "stdout",
     "output_type": "stream",
     "text": [
      "(1, 'Apple', 'AAPL')\n",
      "(2, 'Google', 'GOOGL')\n",
      "(3, 'Intel', 'INTC')\n",
      "(4, 'Microsoft', 'MSTF')\n",
      "(5, 'Oracle', 'ORCL')\n"
     ]
    }
   ],
   "source": [
    "# Verify the Stock Table dataset has the desired stock ticker symbols for analysis\n",
    "data = cursor.execute('''SELECT * FROM stock''')\n",
    "\n",
    "for row in data: \n",
    "    print(row)"
   ]
  },
  {
   "cell_type": "markdown",
   "id": "24688531-eac9-473a-ac96-df2183ed4975",
   "metadata": {
    "pycharm": {
     "name": "#%% md\n"
    }
   },
   "source": [
    "# Database Functions"
   ]
  },
  {
   "cell_type": "code",
   "execution_count": 21,
   "id": "cda1138d-e278-4e2c-9c1c-2adff6c89076",
   "metadata": {
    "pycharm": {
     "name": "#%%\n"
    }
   },
   "outputs": [],
   "source": [
    "# Create a new function to generate uniform tables\n",
    "def create_stock_table (table_name):\n",
    "    query = f'''DROP TABLE IF EXISTS {table_name}'''\n",
    "    cursor.execute(query)\n",
    "    table = f'''\n",
    "    CREATE TABLE {table_name}\n",
    "    (\n",
    "        Date TIMESTAMP,\n",
    "        Stock_id VARCHAR(20),\n",
    "        Open REAL NOT NULL, \n",
    "        High REAL NOT NULL, \n",
    "        Low REAL NOT NULL, \n",
    "        Close REAL NOT NULL, \n",
    "        Month INT NOT NULL,\n",
    "        Normalization REAL NOT NULL,\n",
    "        Percentage_change REAL, \n",
    "        Accumulation REAL,\n",
    "        PRIMARY KEY (date, stock_id),\n",
    "        Constraint fk_stock,\n",
    "        FOREIGN KEY(Stock_id) REFERENCES stock(Ticker)\n",
    "    )\n",
    "    '''   \n",
    "    cursor.execute(table)\n",
    "    \n",
    "    msg = f\"The {table_name} table has been created successfully!\"\n",
    "    return msg"
   ]
  },
  {
   "cell_type": "code",
   "execution_count": 22,
   "id": "4c808128-50c4-4c65-9f96-5db32a5df184",
   "metadata": {
    "pycharm": {
     "name": "#%%\n"
    }
   },
   "outputs": [],
   "source": [
    "# Database function to create volume tables for the given stock ticker symbols\n",
    "def create_volume_table(table_name):\n",
    "    query = f'''DROP TABLE IF EXISTS {table_name}'''\n",
    "    cursor.execute(query)\n",
    "    table = f\"\"\"\n",
    "    CREATE TABLE {table_name} \n",
    "    (\n",
    "        Date TIMESTAMP,\n",
    "        Stock_id VARCHAR(20), \n",
    "        'Adj Close' REAL NOT NULL,\n",
    "        Volume INT REAL NOT NULL,\n",
    "        PRIMARY KEY (date, stock_id),\n",
    "        Constraint fk_stock,\n",
    "        FOREIGN KEY(Stock_id) REFERENCES {table_name}(Stock_id)\n",
    "        FOREIGN KEY(Date) REFERENCES {table_name}(Date)   \n",
    "    )\n",
    "    \"\"\"\n",
    "    cursor.execute(table) \n",
    "\n",
    "    msg = f\"The {table_name} table has been created successfully!\"\n",
    "    return msg"
   ]
  },
  {
   "cell_type": "code",
   "execution_count": 23,
   "id": "9af8bcb3-699e-41f5-bbdf-bc233e436ceb",
   "metadata": {
    "pycharm": {
     "name": "#%%\n"
    }
   },
   "outputs": [],
   "source": [
    "def fetching_data(table_name):\n",
    "    data = cursor.execute(f'''SELECT * FROM {table_name}''')\n",
    "\n",
    "    for row in data: \n",
    "       print(row)"
   ]
  },
  {
   "cell_type": "markdown",
   "id": "7766ba98-5676-42ce-8636-231fa86aab65",
   "metadata": {
    "pycharm": {
     "name": "#%% md\n"
    }
   },
   "source": [
    "# Creating the tables and Inserting data"
   ]
  },
  {
   "cell_type": "code",
   "execution_count": 24,
   "id": "1daf34d2-b11b-447b-be47-5dc05c2d28be",
   "metadata": {
    "pycharm": {
     "name": "#%%\n"
    }
   },
   "outputs": [
    {
     "data": {
      "text/plain": [
       "'The Apple_Price table has been created successfully!'"
      ]
     },
     "execution_count": 24,
     "metadata": {},
     "output_type": "execute_result"
    }
   ],
   "source": [
    "create_stock_table(\"Apple_Price\")"
   ]
  },
  {
   "cell_type": "code",
   "execution_count": 25,
   "id": "f591cb73-305d-464a-8fb8-3f225f7bedfb",
   "metadata": {
    "pycharm": {
     "name": "#%%\n"
    }
   },
   "outputs": [
    {
     "data": {
      "text/plain": [
       "250"
      ]
     },
     "execution_count": 25,
     "metadata": {},
     "output_type": "execute_result"
    }
   ],
   "source": [
    "apple_df.to_sql(\"Apple_Price\", con = connect, if_exists = \"append\", index = False)"
   ]
  },
  {
   "cell_type": "code",
   "execution_count": 26,
   "id": "64bfc645-a58b-4b4c-a62d-5488f2bf9ec7",
   "metadata": {
    "pycharm": {
     "name": "#%%\n"
    }
   },
   "outputs": [
    {
     "data": {
      "text/plain": [
       "'The Apple_Volume table has been created successfully!'"
      ]
     },
     "execution_count": 26,
     "metadata": {},
     "output_type": "execute_result"
    }
   ],
   "source": [
    "create_volume_table(\"Apple_Volume\")"
   ]
  },
  {
   "cell_type": "code",
   "execution_count": 27,
   "id": "879307e3-2878-4d6e-a3f5-f31de77f250c",
   "metadata": {
    "pycharm": {
     "name": "#%%\n"
    }
   },
   "outputs": [
    {
     "data": {
      "text/plain": [
       "250"
      ]
     },
     "execution_count": 27,
     "metadata": {},
     "output_type": "execute_result"
    }
   ],
   "source": [
    "apple_volume.to_sql(\"Apple_Volume\", con = connect, if_exists = \"append\", index = False)"
   ]
  },
  {
   "cell_type": "markdown",
   "id": "5961dbd3-4f6e-4955-b99f-66dd6472cf37",
   "metadata": {
    "pycharm": {
     "name": "#%% md\n"
    }
   },
   "source": [
    "# Creating the tables and Inserting data using a for loop"
   ]
  },
  {
   "cell_type": "code",
   "execution_count": 28,
   "id": "3f61c524-143d-456c-9e85-ddd5b9081234",
   "metadata": {
    "pycharm": {
     "name": "#%%\n"
    }
   },
   "outputs": [],
   "source": [
    "list_data = [\n",
    "    [google_df, \"Google_Price\", \"Google_Volume\"], \n",
    "    [microsoft_df, \"Microsoft_Price\", \"Microsoft_Volume\"], \n",
    "    [intel_df, \"Intel_Price\", \"Intel_Volume\"], \n",
    "    [oracle_df, \"Oracle_Price\", \"Oracle_Volume\"]\n",
    "]\n",
    "\n",
    "for item in list_data:\n",
    "    create_stock_table(item[1])\n",
    "    item[0][0].to_sql(item[1], con = connect, if_exists = \"append\", index = False)\n",
    "\n",
    "    create_volume_table(item[2])\n",
    "    item[0][1].to_sql(item[2], con = connect, if_exists = \"append\", index = False)"
   ]
  },
  {
   "cell_type": "code",
   "execution_count": null,
   "id": "eca129bd-bb09-4c6d-b978-bb72bbcb506c",
   "metadata": {
    "pycharm": {
     "name": "#%%\n"
    }
   },
   "outputs": [],
   "source": []
  }
 ],
 "metadata": {
  "kernelspec": {
   "display_name": "Python 3 (ipykernel)",
   "language": "python",
   "name": "python3"
  },
  "language_info": {
   "codemirror_mode": {
    "name": "ipython",
    "version": 3
   },
   "file_extension": ".py",
   "mimetype": "text/x-python",
   "name": "python",
   "nbconvert_exporter": "python",
   "pygments_lexer": "ipython3",
   "version": "3.10.13"
  }
 },
 "nbformat": 4,
 "nbformat_minor": 5
}